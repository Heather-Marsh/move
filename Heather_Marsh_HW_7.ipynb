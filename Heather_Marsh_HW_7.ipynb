{
  "nbformat": 4,
  "nbformat_minor": 0,
  "metadata": {
    "colab": {
      "provenance": [],
      "toc_visible": true,
      "include_colab_link": true
    },
    "kernelspec": {
      "name": "python3",
      "display_name": "Python 3"
    }
  },
  "cells": [
    {
      "cell_type": "markdown",
      "metadata": {
        "id": "view-in-github",
        "colab_type": "text"
      },
      "source": [
        "<a href=\"https://colab.research.google.com/github/Heather-Marsh/move/blob/main/Heather_Marsh_HW_7.ipynb\" target=\"_parent\"><img src=\"https://colab.research.google.com/assets/colab-badge.svg\" alt=\"Open In Colab\"/></a>"
      ]
    },
    {
      "cell_type": "markdown",
      "metadata": {
        "id": "bfXfovkrW2G6"
      },
      "source": [
        "# Document Filtering\n",
        "\n",
        "Ch 6 from *Programming Collective Intelligence*, based on code from\n",
        "* https://github.com/arthur-e/Programming-Collective-Intelligence/tree/master/chapter6\n",
        "* https://go.oreilly.com/old-dominion-university/library/view/programming-collective-intelligence/9780596529321/\n",
        "\n",
        "**Goal:** Classify email as spam or not spam.\n",
        "\n",
        "**Implemented Example:** Classify a given document as \"bad\" or \"good\"."
      ]
    },
    {
      "cell_type": "markdown",
      "metadata": {
        "id": "XChxdkXms_XE"
      },
      "source": [
        "## General Functions"
      ]
    },
    {
      "cell_type": "code",
      "metadata": {
        "id": "OHgwbcheq5QS"
      },
      "source": [
        "import sqlite3 as sqlite   # replaces import stmt from book\n",
        "import re\n",
        "import math"
      ],
      "execution_count": null,
      "outputs": []
    },
    {
      "cell_type": "code",
      "metadata": {
        "id": "BQw0CH-MrJq7"
      },
      "source": [
        "def getwords(doc):\n",
        "  splitter=re.compile('\\W+')  # different than book\n",
        "  #print (doc)\n",
        "  # Split the words by non-alpha characters\n",
        "  words=[s.lower() for s in splitter.split(doc)\n",
        "          if len(s)>2 and len(s)<20]\n",
        "\n",
        "  # Return the unique set of words only\n",
        "  uniq_words = dict([(w,1) for w in words])\n",
        "\n",
        "  return uniq_words"
      ],
      "execution_count": null,
      "outputs": []
    },
    {
      "cell_type": "markdown",
      "metadata": {
        "id": "lC4TV2qZsyjZ"
      },
      "source": [
        "## Basic Classifier"
      ]
    },
    {
      "cell_type": "code",
      "metadata": {
        "id": "aHgTtW2pKGGo"
      },
      "source": [
        "class classifier:\n",
        "\n",
        "  def __init__(self,getfeatures,filename=None):\n",
        "    # Counts of feature/category combinations\n",
        "    self.fc={}\n",
        "    # Counts of documents in each category\n",
        "    self.cc={}\n",
        "    self.getfeatures=getfeatures\n",
        "\n",
        "  # Increase the count of a feature/category pair\n",
        "  def incf(self,f,cat):\n",
        "    self.fc.setdefault(f, {})\n",
        "    self.fc[f].setdefault(cat, 0)\n",
        "    self.fc[f][cat]+=1\n",
        "\n",
        "  # Increase the count of a category\n",
        "  def incc(self,cat):\n",
        "    self.cc.setdefault(cat, 0)\n",
        "    self.cc[cat]+=1\n",
        "\n",
        "  # The number of times a feature has appeared in a category\n",
        "  def fcount(self,f,cat):\n",
        "    if f in self.fc and cat in self.fc[f]:\n",
        "      return float(self.fc[f][cat])\n",
        "    return 0.0\n",
        "\n",
        "  # The number of items in a category\n",
        "  def catcount(self,cat):\n",
        "    if cat in self.cc:\n",
        "        return float(self.cc[cat])\n",
        "    return 0\n",
        "\n",
        "  # The total number of items\n",
        "  def totalcount(self):\n",
        "    return sum(self.cc.values())\n",
        "\n",
        "  # The list of all categories\n",
        "  def categories(self):\n",
        "    return self.cc.keys()\n",
        "\n",
        "  def train(self,item,cat):\n",
        "    features=self.getfeatures(item)\n",
        "    # Increment the count for every feature with this category\n",
        "    for f in features:\n",
        "      self.incf(f,cat)\n",
        "\n",
        "    # Increment the count for this category\n",
        "    self.incc(cat)\n",
        "\n",
        "  def fprob(self,f,cat):\n",
        "    if self.catcount(cat)==0: return 0\n",
        "\n",
        "    # The total number of times this feature appeared in this\n",
        "    # category divided by the total number of items in this category\n",
        "    return self.fcount(f,cat)/self.catcount(cat)\n",
        "\n",
        "  def weightedprob(self,f,cat,prf,weight=1.0,ap=0.5):\n",
        "    # Calculate current probability\n",
        "    basicprob=prf(f,cat)\n",
        "\n",
        "    # Count the number of times this feature has appeared in\n",
        "    # all categories\n",
        "    totals=sum([self.fcount(f,c) for c in self.categories()])\n",
        "\n",
        "    # Calculate the weighted average\n",
        "    bp=((weight*ap)+(totals*basicprob))/(weight+totals)\n",
        "    return bp"
      ],
      "execution_count": null,
      "outputs": []
    },
    {
      "cell_type": "markdown",
      "metadata": {
        "id": "SBB62YFRsfgZ"
      },
      "source": [
        "## Naive Bayes Classifier"
      ]
    },
    {
      "cell_type": "code",
      "metadata": {
        "id": "0hSyFIKnrRly"
      },
      "source": [
        "class naivebayes(classifier):\n",
        "\n",
        "  def __init__(self,getfeatures):\n",
        "    classifier.__init__(self,getfeatures)\n",
        "    self.thresholds={}\n",
        "\n",
        "  def docprob(self,item,cat):\n",
        "    features=self.getfeatures(item)\n",
        "\n",
        "    # Multiply the probabilities of all the features together\n",
        "    p=1\n",
        "    for f in features: p*=self.weightedprob(f,cat,self.fprob)\n",
        "    return p\n",
        "\n",
        "  def prob(self,item,cat):\n",
        "    catprob=self.catcount(cat)/self.totalcount()\n",
        "    docprob=self.docprob(item,cat)\n",
        "    return docprob*catprob\n",
        "\n",
        "  def setthreshold(self,cat,t):\n",
        "    self.thresholds[cat]=t\n",
        "\n",
        "  def getthreshold(self,cat):\n",
        "    if cat not in self.thresholds: return 1.0\n",
        "    return self.thresholds[cat]\n",
        "\n",
        "  def classify(self,item,default=None):\n",
        "    probs={}\n",
        "    # Find the category with the highest probability\n",
        "    max=0.0\n",
        "    for cat in self.categories():\n",
        "      probs[cat]=self.prob(item,cat)\n",
        "      if probs[cat]>max:\n",
        "        max=probs[cat]\n",
        "        best=cat\n",
        "\n",
        "    # Make sure the probability exceeds threshold*next best\n",
        "    for cat in probs:\n",
        "      if cat==best: continue\n",
        "      if probs[cat]*self.getthreshold(best)>probs[best]: return default\n",
        "    return best"
      ],
      "execution_count": null,
      "outputs": []
    },
    {
      "cell_type": "markdown",
      "source": [
        "# Homework 7 - Email Classification"
      ],
      "metadata": {
        "id": "RbCY_Gu6KHdt"
      }
    },
    {
      "cell_type": "code",
      "source": [
        "#bad training\n",
        "file = open('bTrain1.txt', 'r', errors='ignore')\n",
        "btr1 = file.read()\n",
        "\n",
        "file = open('bTrain2.txt', 'r', errors='ignore')\n",
        "btr2 = file.read()\n",
        "\n",
        "file = open('bTrain3.txt', 'r', errors='ignore')\n",
        "btr3 = file.read()\n",
        "\n",
        "file = open('bTrain4.txt', 'r', errors='ignore')\n",
        "btr4 = file.read()\n",
        "\n",
        "file = open('bTrain5.txt', 'r', errors='ignore')\n",
        "btr5 = file.read()\n",
        "\n",
        "file = open('bTrain6.txt', 'r', errors='ignore')\n",
        "btr6 = file.read()\n",
        "\n",
        "file = open('bTrain7.txt', 'r', errors='ignore')\n",
        "btr7 = file.read()\n",
        "\n",
        "file = open('bTrain8.txt', 'r', errors='ignore')\n",
        "btr8 = file.read()\n",
        "\n",
        "file = open('bTrain9.txt', 'r', errors='ignore')\n",
        "btr9 = file.read()\n",
        "\n",
        "file = open('bTrain10.txt', 'r', errors='ignore')\n",
        "btr10 = file.read()\n",
        "\n",
        "file = open('bTrain11.txt', 'r', errors='ignore')\n",
        "btr11 = file.read()\n",
        "\n",
        "file = open('bTrain12.txt', 'r', errors='ignore')\n",
        "btr12 = file.read()\n",
        "\n",
        "file = open('bTrain13.txt', 'r', errors='ignore')\n",
        "btr13 = file.read()\n",
        "\n",
        "file = open('bTrain14.txt', 'r', errors='ignore')\n",
        "btr14 = file.read()\n",
        "\n",
        "file = open('bTrain15.txt', 'r', errors='ignore')\n",
        "btr15 = file.read()\n",
        "\n",
        "file = open('bTrain16.txt', 'r', errors='ignore')\n",
        "btr16 = file.read()\n",
        "\n",
        "file = open('bTrain17.txt', 'r', errors='ignore')\n",
        "btr17 = file.read()\n",
        "\n",
        "file = open('bTrain18.txt', 'r', errors='ignore')\n",
        "btr18 = file.read()\n",
        "\n",
        "file = open('bTrain19.txt', 'r', errors='ignore')\n",
        "btr19 = file.read()\n",
        "\n",
        "file = open('bTrain20.txt', 'r', errors='ignore')\n",
        "btr20 = file.read()\n",
        "\n",
        "#good training\n",
        "file = open('gTrain1.txt', 'r', errors='ignore')\n",
        "gtr1 = file.read()\n",
        "\n",
        "file = open('gTrain2.txt', 'r', errors='ignore')\n",
        "gtr2 = file.read()\n",
        "\n",
        "file = open('gTrain3.txt', 'r', errors='ignore')\n",
        "gtr3 = file.read()\n",
        "\n",
        "file = open('gTrain4.txt', 'r', errors='ignore')\n",
        "gtr4 = file.read()\n",
        "\n",
        "file = open('gTrain5.txt', 'r', errors='ignore')\n",
        "gtr5 = file.read()\n",
        "\n",
        "file = open('gTrain6.txt', 'r', errors='ignore')\n",
        "gtr6 = file.read()\n",
        "\n",
        "file = open('gTrain7.txt', 'r', errors='ignore')\n",
        "gtr7 = file.read()\n",
        "\n",
        "file = open('gTrain8.txt', 'r', errors='ignore')\n",
        "gtr8 = file.read()\n",
        "\n",
        "file = open('gTrain9.txt', 'r', errors='ignore')\n",
        "gtr9 = file.read()\n",
        "\n",
        "file = open('gTrain10.txt', 'r', errors='ignore')\n",
        "gtr10 = file.read()\n",
        "\n",
        "file = open('gTrain11.txt', 'r', errors='ignore')\n",
        "gtr11 = file.read()\n",
        "\n",
        "file = open('gTrain12.txt', 'r', errors='ignore')\n",
        "gtr12 = file.read()\n",
        "\n",
        "file = open('gTrain13.txt', 'r', errors='ignore')\n",
        "gtr13 = file.read()\n",
        "\n",
        "file = open('gTrain14.txt', 'r', errors='ignore')\n",
        "gtr14 = file.read()\n",
        "\n",
        "file = open('gTrain15.txt', 'r', errors='ignore')\n",
        "gtr15 = file.read()\n",
        "\n",
        "file = open('gTrain16.txt', 'r', errors='ignore')\n",
        "gtr16 = file.read()\n",
        "\n",
        "file = open('gTrain17.txt', 'r', errors='ignore')\n",
        "gtr17 = file.read()\n",
        "\n",
        "file = open('gTrain18.txt', 'r', errors='ignore')\n",
        "gtr18 = file.read()\n",
        "\n",
        "file = open('gTrain19.txt', 'r', errors='ignore')\n",
        "gtr19 = file.read()\n",
        "\n",
        "file = open('gTrain20.txt', 'r', errors='ignore')\n",
        "gtr20 = file.read()\n",
        "\n",
        "\n",
        "#bad test\n",
        "file = open('bTest1.txt', 'r', errors='ignore')\n",
        "bte1 = file.read()\n",
        "\n",
        "file = open('bTest2.txt', 'r', errors='ignore')\n",
        "bte2 = file.read()\n",
        "\n",
        "file = open('bTest3.txt', 'r', errors='ignore')\n",
        "bte3 = file.read()\n",
        "\n",
        "file = open('bTest4.txt', 'r', errors='ignore')\n",
        "bte4 = file.read()\n",
        "\n",
        "file = open('bTest5.txt', 'r', errors='ignore')\n",
        "bte5 = file.read()\n",
        "\n",
        "#good test\n",
        "file = open('gTest1.txt', 'r', errors='ignore')\n",
        "gte1 = file.read()\n",
        "\n",
        "file = open('gTest2.txt', 'r', errors='ignore')\n",
        "gte2 = file.read()\n",
        "\n",
        "file = open('gTest3.txt', 'r', errors='ignore')\n",
        "gte3 = file.read()\n",
        "\n",
        "file = open('gTest4.txt', 'r', errors='ignore')\n",
        "gte4 = file.read()\n",
        "\n",
        "file = open('gTest5.txt', 'r', errors='ignore')\n",
        "gte5 = file.read()\n"
      ],
      "metadata": {
        "id": "Yiik8EybIZU9"
      },
      "execution_count": null,
      "outputs": []
    },
    {
      "cell_type": "code",
      "source": [
        "def spamTrain(cl):\n",
        "  cl.train(gtr1, 'good')\n",
        "  cl.train(gtr2, 'good')\n",
        "  cl.train(gtr3, 'good')\n",
        "  cl.train(gtr4, 'good')\n",
        "  cl.train(gtr5, 'good')\n",
        "  cl.train(gtr6, 'good')\n",
        "  cl.train(gtr7, 'good')\n",
        "  cl.train(gtr8, 'good')\n",
        "  cl.train(gtr9, 'good')\n",
        "  cl.train(gtr10, 'good')\n",
        "  cl.train(gtr11, 'good')\n",
        "  cl.train(gtr12, 'good')\n",
        "  cl.train(gtr13, 'good')\n",
        "  cl.train(gtr14, 'good')\n",
        "  cl.train(gtr15, 'good')\n",
        "  cl.train(gtr16, 'good')\n",
        "  cl.train(gtr17, 'good')\n",
        "  cl.train(gtr18, 'good')\n",
        "  cl.train(gtr19, 'good')\n",
        "  cl.train(gtr20, 'good')\n",
        "\n",
        "  cl.train(btr1, 'bad')\n",
        "  cl.train(btr2, 'bad')\n",
        "  cl.train(btr3, 'bad')\n",
        "  cl.train(btr4, 'bad')\n",
        "  cl.train(btr5, 'bad')\n",
        "  cl.train(btr6, 'bad')\n",
        "  cl.train(btr7, 'bad')\n",
        "  cl.train(btr8, 'bad')\n",
        "  cl.train(btr9, 'bad')\n",
        "  cl.train(btr10, 'bad')\n",
        "  cl.train(btr11, 'bad')\n",
        "  cl.train(btr12, 'bad')\n",
        "  cl.train(btr13, 'bad')\n",
        "  cl.train(btr14, 'bad')\n",
        "  cl.train(btr15, 'bad')\n",
        "  cl.train(btr16, 'bad')\n",
        "  cl.train(btr17, 'bad')\n",
        "  cl.train(btr18, 'bad')\n",
        "  cl.train(btr19, 'bad')\n",
        "  cl.train(btr20, 'bad')"
      ],
      "metadata": {
        "id": "WfwI64FSIoEK"
      },
      "execution_count": null,
      "outputs": []
    },
    {
      "cell_type": "code",
      "source": [
        "cl = classifier(getwords)\n",
        "spamTrain(cl)\n",
        "print(\"\")\n",
        "print(\"Total items:\", cl.totalcount())\n",
        "print(\"Categories:\", cl.categories())\n",
        "for cat in cl.categories():\n",
        "  print(cat, cl.catcount(cat))"
      ],
      "metadata": {
        "colab": {
          "base_uri": "https://localhost:8080/"
        },
        "id": "YuYFYfBIIq4U",
        "outputId": "d256f763-f88b-49dc-bffd-9d797c0dbd28"
      },
      "execution_count": null,
      "outputs": [
        {
          "output_type": "stream",
          "name": "stdout",
          "text": [
            "\n",
            "Total items: 40\n",
            "Categories: dict_keys(['good', 'bad'])\n",
            "good 20.0\n",
            "bad 20.0\n"
          ]
        }
      ]
    },
    {
      "cell_type": "code",
      "source": [
        "cl = naivebayes(getwords)\n",
        "spamTrain(cl)"
      ],
      "metadata": {
        "id": "YuStfGbdI3OJ"
      },
      "execution_count": null,
      "outputs": []
    },
    {
      "cell_type": "code",
      "source": [
        "cl.classify(gte1, default='unknown')"
      ],
      "metadata": {
        "colab": {
          "base_uri": "https://localhost:8080/",
          "height": 36
        },
        "id": "vToCqihUJDv4",
        "outputId": "6750e61a-6336-436f-9cc2-c4fa88fa63be"
      },
      "execution_count": null,
      "outputs": [
        {
          "output_type": "execute_result",
          "data": {
            "text/plain": [
              "'good'"
            ],
            "application/vnd.google.colaboratory.intrinsic+json": {
              "type": "string"
            }
          },
          "metadata": {},
          "execution_count": 40
        }
      ]
    },
    {
      "cell_type": "code",
      "source": [
        "cl.classify(gte2, default='unknown')"
      ],
      "metadata": {
        "colab": {
          "base_uri": "https://localhost:8080/",
          "height": 36
        },
        "id": "zgaws9j8JajL",
        "outputId": "5df42a90-c7cf-4f7b-fceb-086b2ed1b1b8"
      },
      "execution_count": null,
      "outputs": [
        {
          "output_type": "execute_result",
          "data": {
            "text/plain": [
              "'good'"
            ],
            "application/vnd.google.colaboratory.intrinsic+json": {
              "type": "string"
            }
          },
          "metadata": {},
          "execution_count": 42
        }
      ]
    },
    {
      "cell_type": "code",
      "source": [
        "cl.classify(gte3, default='unknown')"
      ],
      "metadata": {
        "colab": {
          "base_uri": "https://localhost:8080/",
          "height": 36
        },
        "id": "GWvv3zF6JbPg",
        "outputId": "416cf96c-c36f-4d7e-d609-8ffa2cb26e65"
      },
      "execution_count": null,
      "outputs": [
        {
          "output_type": "execute_result",
          "data": {
            "text/plain": [
              "'good'"
            ],
            "application/vnd.google.colaboratory.intrinsic+json": {
              "type": "string"
            }
          },
          "metadata": {},
          "execution_count": 43
        }
      ]
    },
    {
      "cell_type": "code",
      "source": [
        "cl.classify(gte4, default='unknown')"
      ],
      "metadata": {
        "colab": {
          "base_uri": "https://localhost:8080/",
          "height": 36
        },
        "id": "0AUnH_PBJbZa",
        "outputId": "b382d85f-92f0-4cb3-c074-4b477b743059"
      },
      "execution_count": null,
      "outputs": [
        {
          "output_type": "execute_result",
          "data": {
            "text/plain": [
              "'good'"
            ],
            "application/vnd.google.colaboratory.intrinsic+json": {
              "type": "string"
            }
          },
          "metadata": {},
          "execution_count": 44
        }
      ]
    },
    {
      "cell_type": "code",
      "source": [
        "cl.classify(gte5, default='unknown')"
      ],
      "metadata": {
        "colab": {
          "base_uri": "https://localhost:8080/",
          "height": 36
        },
        "id": "Fa6MGgAAJbw5",
        "outputId": "c5a1ced8-28c5-475c-9366-5bc8e4968383"
      },
      "execution_count": null,
      "outputs": [
        {
          "output_type": "execute_result",
          "data": {
            "text/plain": [
              "'good'"
            ],
            "application/vnd.google.colaboratory.intrinsic+json": {
              "type": "string"
            }
          },
          "metadata": {},
          "execution_count": 45
        }
      ]
    },
    {
      "cell_type": "code",
      "source": [
        "cl.classify(bte1, default='unknown')"
      ],
      "metadata": {
        "colab": {
          "base_uri": "https://localhost:8080/",
          "height": 36
        },
        "id": "slMxu5SrJb8X",
        "outputId": "b9c46b5c-c474-4548-df5a-ad51fd0634b0"
      },
      "execution_count": null,
      "outputs": [
        {
          "output_type": "execute_result",
          "data": {
            "text/plain": [
              "'bad'"
            ],
            "application/vnd.google.colaboratory.intrinsic+json": {
              "type": "string"
            }
          },
          "metadata": {},
          "execution_count": 46
        }
      ]
    },
    {
      "cell_type": "code",
      "source": [
        "cl.classify(bte2, default='unknown')"
      ],
      "metadata": {
        "colab": {
          "base_uri": "https://localhost:8080/",
          "height": 36
        },
        "id": "diAgbs9XJcDs",
        "outputId": "fa9ee23b-9549-4998-83d9-ec273f19c7e7"
      },
      "execution_count": null,
      "outputs": [
        {
          "output_type": "execute_result",
          "data": {
            "text/plain": [
              "'bad'"
            ],
            "application/vnd.google.colaboratory.intrinsic+json": {
              "type": "string"
            }
          },
          "metadata": {},
          "execution_count": 47
        }
      ]
    },
    {
      "cell_type": "code",
      "source": [
        "cl.classify(bte3, default='unknown')"
      ],
      "metadata": {
        "colab": {
          "base_uri": "https://localhost:8080/",
          "height": 36
        },
        "id": "0ly7ro-vJcKt",
        "outputId": "d7db95dc-3488-4488-8b1e-f0cce7654ca7"
      },
      "execution_count": null,
      "outputs": [
        {
          "output_type": "execute_result",
          "data": {
            "text/plain": [
              "'bad'"
            ],
            "application/vnd.google.colaboratory.intrinsic+json": {
              "type": "string"
            }
          },
          "metadata": {},
          "execution_count": 48
        }
      ]
    },
    {
      "cell_type": "code",
      "source": [
        "cl.classify(bte4, default='unknown')"
      ],
      "metadata": {
        "colab": {
          "base_uri": "https://localhost:8080/",
          "height": 36
        },
        "id": "d5Yy96dkJcR-",
        "outputId": "f3a9a4cd-5094-441b-b23e-b57a40459710"
      },
      "execution_count": null,
      "outputs": [
        {
          "output_type": "execute_result",
          "data": {
            "text/plain": [
              "'bad'"
            ],
            "application/vnd.google.colaboratory.intrinsic+json": {
              "type": "string"
            }
          },
          "metadata": {},
          "execution_count": 49
        }
      ]
    },
    {
      "cell_type": "code",
      "source": [
        "cl.classify(bte5, default='unknown')"
      ],
      "metadata": {
        "colab": {
          "base_uri": "https://localhost:8080/",
          "height": 36
        },
        "id": "ljhiU-QSK5ZE",
        "outputId": "2a573fc2-02e1-4c30-d5a9-c224b99dd6e4"
      },
      "execution_count": null,
      "outputs": [
        {
          "output_type": "execute_result",
          "data": {
            "text/plain": [
              "'bad'"
            ],
            "application/vnd.google.colaboratory.intrinsic+json": {
              "type": "string"
            }
          },
          "metadata": {},
          "execution_count": 50
        }
      ]
    }
  ]
}